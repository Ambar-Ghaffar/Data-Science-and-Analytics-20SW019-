{
  "nbformat": 4,
  "nbformat_minor": 0,
  "metadata": {
    "colab": {
      "provenance": []
    },
    "kernelspec": {
      "name": "python3",
      "display_name": "Python 3"
    },
    "language_info": {
      "name": "python"
    }
  },
  "cells": [
    {
      "cell_type": "code",
      "source": [
        "answer = 42  # Replace 42 with your chosen number\n",
        "guess = int(input(\"Enter your guess: \"))  # Assuming the user's guess is provided through input\n",
        "\n",
        "if guess < answer:\n",
        "    result = \"Oops! Your guess was too low.\"\n",
        "elif guess > answer:\n",
        "    result = \"Oops! Your guess was too high.\"\n",
        "else:\n",
        "    result = \"Nice! Your guess matched the answer!\"\n",
        "\n",
        "print(result)"
      ],
      "metadata": {
        "colab": {
          "base_uri": "https://localhost:8080/"
        },
        "id": "j1qNyfxa2fiS",
        "outputId": "ed57e363-3f83-432d-a2ef-ba35f2cf3e39"
      },
      "execution_count": null,
      "outputs": [
        {
          "output_type": "stream",
          "name": "stdout",
          "text": [
            "Enter your guess: 56\n",
            "Oops! Your guess was too high.\n"
          ]
        }
      ]
    },
    {
      "cell_type": "code",
      "source": [
        "def calculate_total_purchase(amount, state):\n",
        "    # Define a dictionary to store the tax rates for each state\n",
        "    state_tax_rates = {\n",
        "        'CA': 0.075,  # 7.5% tax rate for California\n",
        "        'MN': 0.095,  # 9.5% tax rate for Minnesota\n",
        "        'NY': 0.089,  # 8.9% tax rate for New York\n",
        "    }\n",
        "\n",
        "    # Check if the state provided is valid (exists in the state_tax_rates dictionary)\n",
        "    if state in state_tax_rates:\n",
        "        # Calculate the tax amount based on the tax rate for the given state\n",
        "        tax_rate = state_tax_rates[state]\n",
        "        tax_amount = amount * tax_rate\n",
        "\n",
        "        # Calculate the total amount after applying tax\n",
        "        total_amount = amount + tax_amount\n",
        "\n",
        "        return total_amount\n",
        "    else:\n",
        "        # If the state is not valid, return an error message\n",
        "        return \"Error: Invalid state provided. Please enter a valid state (CA, MN, or NY).\"\n",
        "\n",
        "# Example usage:\n",
        "amount_of_purchase = 100.00\n",
        "state_of_purchase = \"CA\"\n",
        "\n",
        "total_purchase_amount = calculate_total_purchase(amount_of_purchase, state_of_purchase)\n",
        "print(f\"Total purchase amount with tax: ${total_purchase_amount:.2f}\")"
      ],
      "metadata": {
        "colab": {
          "base_uri": "https://localhost:8080/"
        },
        "id": "2tk3WK4a3A1F",
        "outputId": "23f9afb2-705c-40b2-a56b-0b7a31875afb"
      },
      "execution_count": null,
      "outputs": [
        {
          "output_type": "stream",
          "name": "stdout",
          "text": [
            "Total purchase amount with tax: $107.50\n"
          ]
        }
      ]
    },
    {
      "cell_type": "code",
      "source": [
        "sentence = [\"the\", \"quick\", \"brown\", \"fox\", \"jumped\", \"over\", \"the\", \"lazy\", \"dog\"]\n",
        "\n",
        "for word in sentence:\n",
        "    print(word)"
      ],
      "metadata": {
        "colab": {
          "base_uri": "https://localhost:8080/"
        },
        "id": "FkudFe6Y3Qf7",
        "outputId": "f3b210ea-b7e9-4a80-bff2-78d496d063d7"
      },
      "execution_count": null,
      "outputs": [
        {
          "output_type": "stream",
          "name": "stdout",
          "text": [
            "the\n",
            "quick\n",
            "brown\n",
            "fox\n",
            "jumped\n",
            "over\n",
            "the\n",
            "lazy\n",
            "dog\n"
          ]
        }
      ]
    },
    {
      "cell_type": "code",
      "source": [
        "for number in range(5, 31, 5):\n",
        "    print(number)"
      ],
      "metadata": {
        "colab": {
          "base_uri": "https://localhost:8080/"
        },
        "id": "wePFc32H3bWS",
        "outputId": "3ead84ca-7105-4f4f-8f0f-e0035ac2ee43"
      },
      "execution_count": null,
      "outputs": [
        {
          "output_type": "stream",
          "name": "stdout",
          "text": [
            "5\n",
            "10\n",
            "15\n",
            "20\n",
            "25\n",
            "30\n"
          ]
        }
      ]
    },
    {
      "cell_type": "code",
      "source": [
        "names = [\"Rick Sanchez\", \"Morty Smith\", \"Summer Smith\", \"Jerry Smith\", \"Beth Smith\"]\n",
        "\n",
        "# List comprehension to extract the first names in lowercase\n",
        "first_names = [name.split()[0].lower() for name in names]\n",
        "\n",
        "print(first_names)"
      ],
      "metadata": {
        "colab": {
          "base_uri": "https://localhost:8080/"
        },
        "id": "gnlinSgt3mJx",
        "outputId": "b26d6e13-ebd1-4c3d-edfb-25fc0d29a951"
      },
      "execution_count": null,
      "outputs": [
        {
          "output_type": "stream",
          "name": "stdout",
          "text": [
            "['rick', 'morty', 'summer', 'jerry', 'beth']\n"
          ]
        }
      ]
    },
    {
      "cell_type": "code",
      "source": [
        "# List comprehension to generate the first 20 multiples of 3\n",
        "multiples_3 = [num * 3 for num in range(1, 21)]\n",
        "\n",
        "print(multiples_3)"
      ],
      "metadata": {
        "colab": {
          "base_uri": "https://localhost:8080/"
        },
        "id": "D-IPXg4e3y5-",
        "outputId": "e4036b65-7f23-4d25-8554-ce8d2155bdde"
      },
      "execution_count": null,
      "outputs": [
        {
          "output_type": "stream",
          "name": "stdout",
          "text": [
            "[3, 6, 9, 12, 15, 18, 21, 24, 27, 30, 33, 36, 39, 42, 45, 48, 51, 54, 57, 60]\n"
          ]
        }
      ]
    },
    {
      "cell_type": "code",
      "source": [
        "scores = {\n",
        "    \"Rick Sanchez\": 70,\n",
        "    \"Morty Smith\": 35,\n",
        "    \"Summer Smith\": 82,\n",
        "    \"Jerry Smith\": 23,\n",
        "    \"Beth Smith\": 98\n",
        "}\n",
        "\n",
        "# List comprehension to filter names with scores of at least 65\n",
        "passed = [name for name, score in scores.items() if score >= 65]\n",
        "\n",
        "print(passed)"
      ],
      "metadata": {
        "colab": {
          "base_uri": "https://localhost:8080/"
        },
        "id": "DoHV9yE53-2l",
        "outputId": "a2a3feda-a909-4882-966d-6465499a2961"
      },
      "execution_count": null,
      "outputs": [
        {
          "output_type": "stream",
          "name": "stdout",
          "text": [
            "['Rick Sanchez', 'Summer Smith', 'Beth Smith']\n"
          ]
        }
      ]
    },
    {
      "cell_type": "code",
      "source": [],
      "metadata": {
        "id": "OxOFbWuacPPi"
      },
      "execution_count": null,
      "outputs": []
    },
    {
      "cell_type": "markdown",
      "source": [],
      "metadata": {
        "id": "actoNvxCcQw2"
      }
    },
    {
      "cell_type": "code",
      "source": [
        "cast_names = [\"Barney\", \"Robin\", \"Ted\", \"Lily\", \"Marshall\"]\n",
        "cast_heights = [72, 68, 72, 66, 76]\n",
        "cast = dict(zip(cast_names, cast_heights))\n",
        "print(cast)"
      ],
      "metadata": {
        "colab": {
          "base_uri": "https://localhost:8080/"
        },
        "id": "D45dGSPE4MDz",
        "outputId": "b38b3281-4e34-4a3c-8f73-98e08eccea85"
      },
      "execution_count": null,
      "outputs": [
        {
          "output_type": "stream",
          "name": "stdout",
          "text": [
            "{'Barney': 72, 'Robin': 68, 'Ted': 72, 'Lily': 66, 'Marshall': 76}\n"
          ]
        }
      ]
    },
    {
      "cell_type": "code",
      "source": [
        "cast = [\"Barney Stinson\", \"Robin Scherbatsky\", \"Ted Mosby\", \"Lily Aldrin\", \"Marshall Eriksen\"]\n",
        "heights = [72, 68, 72, 66, 76]\n",
        "\n",
        "# Modify the cast list to include names and heights\n",
        "for index, name in enumerate(cast):\n",
        "    cast[index] = f\"{name} {heights[index]}\"\n",
        "\n",
        "print(cast)"
      ],
      "metadata": {
        "id": "w5rA5mbQ4YT0",
        "outputId": "2a5a193d-5cfe-4aa2-ce81-a9e5cc558de8",
        "colab": {
          "base_uri": "https://localhost:8080/"
        }
      },
      "execution_count": null,
      "outputs": [
        {
          "output_type": "stream",
          "name": "stdout",
          "text": [
            "['Barney Stinson 72', 'Robin Scherbatsky 68', 'Ted Mosby 72', 'Lily Aldrin 66', 'Marshall Eriksen 76']\n"
          ]
        }
      ]
    },
    {
      "cell_type": "code",
      "execution_count": null,
      "metadata": {
        "colab": {
          "base_uri": "https://localhost:8080/"
        },
        "id": "ZxTDJq_B1PsT",
        "outputId": "8119762f-f6f6-409a-b113-07f3e1d3ee02"
      },
      "outputs": [
        {
          "output_type": "stream",
          "name": "stdout",
          "text": [
            "80\n",
            "Alasss!!!! No prize\n"
          ]
        }
      ],
      "source": [
        "prize = int(input())\n",
        "\n",
        "if prize >= 1 and prize <= 50:\n",
        "    print('Congratulations!!!! Wooden rabbit')\n",
        "elif prize > 50 and prize <= 150:\n",
        "    print('Alasss!!!! No prize')\n",
        "elif prize > 150 and prize <= 180:\n",
        "    print('Congratulations!!!! Wafer-thin mint')\n",
        "elif prize > 180 and prize <= 200:\n",
        "    print('Congratulations!!!! Penguin')\n",
        "else:\n",
        "    print('Ooh dear!!! No prize this time')"
      ]
    }
  ]
}